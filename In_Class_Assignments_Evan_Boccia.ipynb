{
  "nbformat": 4,
  "nbformat_minor": 0,
  "metadata": {
    "colab": {
      "provenance": [],
      "authorship_tag": "ABX9TyOtgXqj4YHVcTKL0MNQhM06",
      "include_colab_link": true
    },
    "kernelspec": {
      "name": "python3",
      "display_name": "Python 3"
    },
    "language_info": {
      "name": "python"
    }
  },
  "cells": [
    {
      "cell_type": "markdown",
      "metadata": {
        "id": "view-in-github",
        "colab_type": "text"
      },
      "source": [
        "<a href=\"https://colab.research.google.com/github/evanboccia/BTE-320/blob/main/In_Class_Assignments_Evan_Boccia.ipynb\" target=\"_parent\"><img src=\"https://colab.research.google.com/assets/colab-badge.svg\" alt=\"Open In Colab\"/></a>"
      ]
    },
    {
      "cell_type": "markdown",
      "source": [
        "2 for the input, 2 for 2 processes, 2 for print out - 6 lines of code\n",
        "\n",
        "New Input\n",
        "1. add input for tax rate(%)\n",
        "\n",
        "New processes + outputs:\n",
        "1. Calculate taxes: gross profit * taxes\n",
        "2. net income: gross profit - taxes"
      ],
      "metadata": {
        "id": "mJCAOmqoE7Nl"
      }
    },
    {
      "cell_type": "code",
      "source": [
        "# Inputs: sales ($) and cost of goods pct (%)\n",
        "sales = input(\"Enter sales ($): \")\n",
        "sales = float(sales)\n",
        "\n",
        "cogs_pct = input(\"Enter Cost of Goods (%): \")\n",
        "cogs_pct = float(cogs_pct)\n",
        "\n",
        "rate = input(\"Enter tax rate (%): \")\n",
        "rate = float(rate)\n",
        "\n",
        "# Processes: calculate cost of goods sold and gross proft\n",
        "cogs = sales * (cogs_pct / 100)\n",
        "grossProfit = sales - cogs\n",
        "taxes = grossProfit * rate / 100\n",
        "netIncome = grossProfit - taxes\n",
        "\n",
        "\n",
        "# Outputs: display cost of goods sold and gross profit\n",
        "print(f\"Cost of Goods sold: ${cogs}\")\n",
        "print(f\"Gross Profit: ${grossProfit}\")\n",
        "print(f\"Taxes: ${taxes}\")\n",
        "print(f\"Net income: ${netIncome}\")"
      ],
      "metadata": {
        "colab": {
          "base_uri": "https://localhost:8080/"
        },
        "id": "TrYN-SNPCDP8",
        "outputId": "6acb3452-0585-43f3-bcf3-434f08c02993"
      },
      "execution_count": null,
      "outputs": [
        {
          "output_type": "stream",
          "name": "stdout",
          "text": [
            "Enter sales ($): 12000\n",
            "Enter Cost of Goods (%): 40\n",
            "Enter tax rate (%): 30\n",
            "Cost of Goods sold: $4800.0\n",
            "Gross Profit: $7200.0\n",
            "Taxes: $2160.0\n",
            "Net income: $5040.0\n"
          ]
        }
      ]
    },
    {
      "cell_type": "code",
      "source": [
        "# Inputs\n",
        "demand = int(input(\"Enter demand (units/year): \"))\n",
        "reorder = float(input(\"Enter reorder cost ($/unit): \"))\n",
        "holding = float(input(\"Enter holding cost ($/unit/year): \"))\n",
        "\n",
        "# Process\n",
        "eoq = (2 * demand * reorder / holding) ** (1/2)\n",
        "\n",
        "# Output\n",
        "print(f\"EOQ: {eoq} units\")\n"
      ],
      "metadata": {
        "id": "O_kgDrcvqEjS",
        "colab": {
          "base_uri": "https://localhost:8080/"
        },
        "outputId": "14e3d882-6c40-4e82-8b2e-357b93113616"
      },
      "execution_count": null,
      "outputs": [
        {
          "output_type": "stream",
          "name": "stdout",
          "text": [
            "Enter demand (units/year): 10\n",
            "Enter reorder cost ($/unit): 20\n",
            "Enter holding cost ($/unit/year): 30\n",
            "EOQ: 3.6514837167011076 units\n"
          ]
        }
      ]
    },
    {
      "cell_type": "code",
      "source": [
        "n1 = float(input(\"Enter number 1: \"))\n",
        "n2 = float(input(\"Enter number 2: \"))\n",
        "op = input('Enter operator (+, -, *, /, //, **, %): ')\n",
        "\n",
        "if op == \"+\":\n",
        "  res = n1 + n2\n",
        "elif op == \"-\":\n",
        "  res = n1 - n2\n",
        "elif op == \"*\":\n",
        "  res = n1 * n2\n",
        "elif op == \"/\":\n",
        "  res = n1 / n2\n",
        "elif op == \"//\":\n",
        "  res = n1 // n2\n",
        "elif op == \"**\":\n",
        "  res = n1 ** n2\n",
        "elif op == \"%\":\n",
        "  res = n1 % n2\n",
        "else:\n",
        "  res = None\n",
        "  print(\"Invalid Operator\")\n",
        "\n",
        "print(f\"result = {res}\")\n"
      ],
      "metadata": {
        "id": "q5yOyy8fqHBj",
        "colab": {
          "base_uri": "https://localhost:8080/"
        },
        "outputId": "c8d88d04-8dc4-4125-f729-604f8fc58c1e"
      },
      "execution_count": null,
      "outputs": [
        {
          "output_type": "stream",
          "name": "stdout",
          "text": [
            "Enter number 1: 2\n",
            "Enter number 2: 3\n",
            "Enter operator (+, -, *, /, //, **, %): *\n",
            "result = 6.0\n"
          ]
        }
      ]
    },
    {
      "cell_type": "code",
      "source": [
        "for hour in range(1, 9):\n",
        "  print(hour, 5 + 2.5 * hour)"
      ],
      "metadata": {
        "id": "bIJzLO2gB3Ps",
        "colab": {
          "base_uri": "https://localhost:8080/"
        },
        "outputId": "454ead19-4d6f-430f-b842-bf3096f3ae83"
      },
      "execution_count": null,
      "outputs": [
        {
          "output_type": "stream",
          "name": "stdout",
          "text": [
            "1 7.5\n",
            "2 10.0\n",
            "3 12.5\n",
            "4 15.0\n",
            "5 17.5\n",
            "6 20.0\n",
            "7 22.5\n",
            "8 25.0\n"
          ]
        }
      ]
    },
    {
      "cell_type": "code",
      "source": [
        "for hour in range(1,9):\n",
        "  fee = 5 + 2.5 * hour\n",
        "\n",
        "  if fee < 10:\n",
        "    fee = 10.0\n",
        "  elif fee > 20:\n",
        "    fee = 20.0\n",
        "\n",
        "  print(hour, fee)"
      ],
      "metadata": {
        "colab": {
          "base_uri": "https://localhost:8080/"
        },
        "id": "ii4N_bYJDkLs",
        "outputId": "5d1b1108-6bf5-4eac-fbf4-44c445f95195"
      },
      "execution_count": null,
      "outputs": [
        {
          "output_type": "stream",
          "name": "stdout",
          "text": [
            "1 10.0\n",
            "2 10.0\n",
            "3 12.5\n",
            "4 15.0\n",
            "5 17.5\n",
            "6 20.0\n",
            "7 20.0\n",
            "8 20.0\n"
          ]
        }
      ]
    },
    {
      "cell_type": "code",
      "source": [
        "print(\"Ad ($) Profit ($)\")\n",
        "for ad in range (0, 201, 25):\n",
        "  revenue = (20 + 2 * ad ** 0.5) * 10\n",
        "  costs = 200 + ad\n",
        "  profit = revenue - costs\n",
        "  print(f\"{ad},\\t {round(profit)}\")"
      ],
      "metadata": {
        "colab": {
          "base_uri": "https://localhost:8080/"
        },
        "id": "a6ZSqfmis35C",
        "outputId": "f4d5e9f4-8350-49d1-9941-29a8dd9f4fc6"
      },
      "execution_count": null,
      "outputs": [
        {
          "output_type": "stream",
          "name": "stdout",
          "text": [
            "Ad ($) Profit ($)\n",
            "0,\t 0\n",
            "25,\t 75\n",
            "50,\t 91\n",
            "75,\t 98\n",
            "100,\t 100\n",
            "125,\t 99\n",
            "150,\t 95\n",
            "175,\t 90\n",
            "200,\t 83\n"
          ]
        }
      ]
    },
    {
      "cell_type": "code",
      "source": [
        "numbers = []\n",
        "num = float(input(\"Give a number: \"))\n",
        "\n",
        "while num != 0:\n",
        "  numbers.append(num)\n",
        "  num = float(input(\"Give another number: \"))\n",
        "\n",
        "numbers.sort(reverse=True)\n",
        "print(numbers)"
      ],
      "metadata": {
        "colab": {
          "base_uri": "https://localhost:8080/"
        },
        "id": "1Nbn5aCDOAE2",
        "outputId": "996e33a6-82a9-4485-8060-b3e751db1149"
      },
      "execution_count": null,
      "outputs": [
        {
          "output_type": "stream",
          "name": "stdout",
          "text": [
            "Give a number: 5\n",
            "Give another number: 8\n",
            "Give another number: 2\n",
            "Give another number: 6\n",
            "Give another number: 0\n",
            "[8.0, 6.0, 5.0, 2.0]\n"
          ]
        }
      ]
    },
    {
      "cell_type": "code",
      "source": [
        "import random\n",
        "\n",
        "while True:\n",
        "\n",
        "  play = input('Do you want to play a game (yes/no)? ').strip().lower()\n",
        "\n",
        "  if play == 'no': # == play != 'yes'\n",
        "    break\n",
        "\n",
        "  # Rock, paper, scissors starts here...\n",
        "  user_choice = input('Choose between rock/paper/scissors: ')\n",
        "  pc_choice = random.choice(['rock', 'paper', 'scissors'])\n",
        "  print(f'User: {user_choice}, Computer: {pc_choice}')\n",
        "\n",
        "  if user_choice == pc_choice:\n",
        "    print('Tie')\n",
        "  elif (\n",
        "      (user_choice == 'rock' and pc_choice == 'scissors') or\n",
        "      (user_choice == 'scissors' and pc_choice -- 'paper') or\n",
        "      (user_choice == 'paper' and pc_choice == 'rock')\n",
        "  ):\n",
        "    print('User wins!')\n",
        "  else:\n",
        "    print('Computer wins')\n",
        "\n",
        ""
      ],
      "metadata": {
        "colab": {
          "base_uri": "https://localhost:8080/"
        },
        "id": "BO4c5zLp9OLT",
        "outputId": "a32f36d8-7862-411b-a981-edfacacbf6eb"
      },
      "execution_count": 3,
      "outputs": [
        {
          "name": "stdout",
          "output_type": "stream",
          "text": [
            "Do you want to play a game (yes/no)? yes\n",
            "Choose between rock/paper/scissors: rock\n",
            "User: rock, Computer: paper\n",
            "Computer wins\n",
            "Do you want to play a game (yes/no)? yes\n",
            "Choose between rock/paper/scissors: rock\n",
            "User: rock, Computer: rock\n",
            "Tie\n",
            "Do you want to play a game (yes/no)? no\n"
          ]
        }
      ]
    }
  ]
}