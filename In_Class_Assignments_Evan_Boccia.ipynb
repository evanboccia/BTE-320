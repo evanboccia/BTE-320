{
  "nbformat": 4,
  "nbformat_minor": 0,
  "metadata": {
    "colab": {
      "provenance": [],
      "authorship_tag": "ABX9TyPS6/Eb1caFDykPexiHeU3+",
      "include_colab_link": true
    },
    "kernelspec": {
      "name": "python3",
      "display_name": "Python 3"
    },
    "language_info": {
      "name": "python"
    }
  },
  "cells": [
    {
      "cell_type": "markdown",
      "metadata": {
        "id": "view-in-github",
        "colab_type": "text"
      },
      "source": [
        "<a href=\"https://colab.research.google.com/github/evanboccia/BTE-320/blob/main/In_Class_Assignments_Evan_Boccia.ipynb\" target=\"_parent\"><img src=\"https://colab.research.google.com/assets/colab-badge.svg\" alt=\"Open In Colab\"/></a>"
      ]
    },
    {
      "cell_type": "markdown",
      "source": [
        "2 for the input, 2 for 2 processes, 2 for print out - 6 lines of code\n",
        "\n",
        "New Input\n",
        "1. add input for tax rate(%)\n",
        "\n",
        "New processes + outputs:\n",
        "1. Calculate taxes: gross profit * taxes\n",
        "2. net income: gross profit - taxes"
      ],
      "metadata": {
        "id": "mJCAOmqoE7Nl"
      }
    },
    {
      "cell_type": "code",
      "source": [
        "# Inputs: sales ($) and cost of goods pct (%)\n",
        "sales = input(\"Enter sales ($): \")\n",
        "sales = float(sales)\n",
        "\n",
        "cogs_pct = input(\"Enter Cost of Goods (%): \")\n",
        "cogs_pct = float(cogs_pct)\n",
        "\n",
        "rate = input(\"Enter tax rate (%): \")\n",
        "rate = float(rate)\n",
        "\n",
        "# Processes: calculate cost of goods sold and gross proft\n",
        "cogs = sales * (cogs_pct / 100)\n",
        "grossProfit = sales - cogs\n",
        "taxes = grossProfit * rate / 100\n",
        "netIncome = grossProfit - taxes\n",
        "\n",
        "\n",
        "# Outputs: display cost of goods sold and gross profit\n",
        "print(f\"Cost of Goods sold: ${cogs}\")\n",
        "print(f\"Gross Profit: ${grossProfit}\")\n",
        "print(f\"Taxes: ${taxes}\")\n",
        "print(f\"Net income: ${netIncome}\")"
      ],
      "metadata": {
        "colab": {
          "base_uri": "https://localhost:8080/"
        },
        "id": "TrYN-SNPCDP8",
        "outputId": "6acb3452-0585-43f3-bcf3-434f08c02993"
      },
      "execution_count": 8,
      "outputs": [
        {
          "output_type": "stream",
          "name": "stdout",
          "text": [
            "Enter sales ($): 12000\n",
            "Enter Cost of Goods (%): 40\n",
            "Enter tax rate (%): 30\n",
            "Cost of Goods sold: $4800.0\n",
            "Gross Profit: $7200.0\n",
            "Taxes: $2160.0\n",
            "Net income: $5040.0\n"
          ]
        }
      ]
    }
  ]
}